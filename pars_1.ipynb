{
 "cells": [
  {
   "cell_type": "code",
   "execution_count": 1,
   "metadata": {},
   "outputs": [],
   "source": [
    "from selenium import webdriver\n",
    "import numpy as np\n",
    "\n",
    "import time\n",
    "from selenium import webdriver\n",
    "\n",
    "from selenium.webdriver.common.by import By\n",
    "#from selenium.webdriver.common.keys import Keys\n",
    "from selenium.webdriver.support.ui import WebDriverWait\n",
    "from selenium.webdriver.support.expected_conditions import presence_of_element_located\n",
    "\n",
    "from selenium.webdriver.support import expected_conditions\n",
    "from selenium.webdriver.common.by import By\n",
    "from selenium.webdriver.support.ui import WebDriverWait\n",
    "import time\n",
    "from selenium import webdriver\n",
    "from selenium.webdriver.chrome.service import Service\n",
    "import pandas as pd\n",
    "import sys"
   ]
  },
  {
   "cell_type": "code",
   "execution_count": 4,
   "metadata": {},
   "outputs": [],
   "source": [
    "import re\n",
    "from selenium.webdriver import Keys, ActionChains\n",
    "\n",
    "from selenium.common.exceptions import ElementClickInterceptedException\n",
    "\n",
    "import pyautogui\n",
    "import warnings\n",
    "warnings.filterwarnings(\"ignore\")\n",
    "\n",
    "\n",
    "\n",
    "options = webdriver.ChromeOptions()\n",
    "\n",
    "prefs = {\"profile.default_content_setting_values.notifications\" : 2}\n",
    "\n",
    "options.add_experimental_option(\"prefs\",prefs)\n",
    "options.page_load_strategy = 'normal'\n",
    "service = Service(executable_path=\"chromedriver.exe\")\n",
    "driver = webdriver.Chrome(service=service, options=options)\n",
    "\n",
    "driver.maximize_window()\n",
    "driver.get(\"https://grandtrain.ru/tickets/2000000-2078001/11.07.2023/\")\n",
    "\n",
    "\n"
   ]
  },
  {
   "cell_type": "code",
   "execution_count": null,
   "metadata": {},
   "outputs": [],
   "source": []
  },
  {
   "cell_type": "code",
   "execution_count": 6,
   "metadata": {},
   "outputs": [],
   "source": [
    "try:\n",
    "    element = driver.find_element(By.XPATH, '/html/body/main/div[3]')\n",
    "    driver.execute_script(\"arguments[0].remove();\", element)\n",
    "except Exception:\n",
    "    pass"
   ]
  },
  {
   "cell_type": "code",
   "execution_count": 5,
   "metadata": {},
   "outputs": [],
   "source": [
    "driver.find_element(By.XPATH, '/html/body/div[11]/div/div/div[2]/button').click()\n"
   ]
  },
  {
   "cell_type": "code",
   "execution_count": null,
   "metadata": {},
   "outputs": [],
   "source": [
    "\n",
    "link_new = dict()\n",
    "link_new.clear()\n",
    "start_page = 1\n",
    "start_card = 1\n",
    "\n",
    "\n",
    "for num in range (start_page, 4):\n",
    "    print(\"num = \", num)\n",
    "    for i in range(start_card, 49):\n",
    "        try:\n",
    "            WebDriverWait(driver, 10).until(expected_conditions.visibility_of_element_located((By.XPATH, f'/html/body/div[2]/div/main/section/div[2]/div/div/section/div[2]/div[2]/div[{i}]/div/div[3]/div[1]/a')))\n",
    "            search_box = driver.find_element(By.XPATH, f'/html/body/div[2]/div/main/section/div[2]/div/div/section/div[2]/div[2]/div[{i}]/div/div[3]/div[1]/a')\n",
    "            #print(\"1\")                                  /html/body/div[2]/div/main/section/div[2]/div/div/section/div[2]/div[2]/div[4  ]/div/div[3]/div[1]/a\n",
    "            link_new.update({'link': search_box.get_attribute(\"href\")})                         \n",
    "            data_link = data_link.append(link_new, ignore_index=True) \n",
    "            data_link.to_csv(f'link.csv', index=False)\n",
    "            #print(\"2\")\n",
    "        except Exception as e:\n",
    "            pass\n",
    "\n",
    "        link_new.clear()\n",
    "    driver.get(f\"https://www.citilink.ru/catalog/processory/?p={num+1}\")\n",
    "\n",
    "    start_card = 1"
   ]
  }
 ],
 "metadata": {
  "kernelspec": {
   "display_name": "Python 3",
   "language": "python",
   "name": "python3"
  },
  "language_info": {
   "codemirror_mode": {
    "name": "ipython",
    "version": 3
   },
   "file_extension": ".py",
   "mimetype": "text/x-python",
   "name": "python",
   "nbconvert_exporter": "python",
   "pygments_lexer": "ipython3",
   "version": "3.10.5"
  },
  "orig_nbformat": 4
 },
 "nbformat": 4,
 "nbformat_minor": 2
}
